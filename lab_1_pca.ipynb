{
  "nbformat": 4,
  "nbformat_minor": 0,
  "metadata": {
    "colab": {
      "provenance": []
    },
    "kernelspec": {
      "name": "python3",
      "display_name": "Python 3"
    },
    "language_info": {
      "name": "python"
    }
  },
  "cells": [
    {
      "cell_type": "code",
      "execution_count": 2242,
      "metadata": {
        "id": "xT3eqm4c0yMY"
      },
      "outputs": [],
      "source": [
        "from typing import *\n",
        "from copy import deepcopy\n",
        "from math import ceil\n",
        "import math"
      ]
    },
    {
      "cell_type": "code",
      "source": [
        "class Matrix_Operations:\n",
        "    def __init__(\n",
        "            self, N: int, M: int, matrix: list[list[any]] #На вход классу подаются размерность матрицы и сама матрица\n",
        "    ):\n",
        "        self.N = N\n",
        "        self.M = M\n",
        "        self.matrix = matrix\n",
        "\n",
        "    #Функция для суммирования двух матриц\n",
        "    def sum_matrix(self,\n",
        "                   matrix1: list[list[any]],\n",
        "                   matrix2: list[list[any]]) -> list[list[any]]:\n",
        "\n",
        "        #Проверяем, одинаковые ли структуры у двух матриц\n",
        "        if len(matrix1) != len(matrix2) or len(matrix1[0]) != len(matrix2[0]):\n",
        "            return 0\n",
        "\n",
        "        matrix3 = [[0] * len(matrix1[0]) for _ in range(len(matrix1))]\n",
        "        for i in range(len(matrix1)):\n",
        "            for j in range(len(matrix1[0])):\n",
        "                matrix3[i][j] = matrix1[i][j] + matrix2[i][j]\n",
        "\n",
        "        return matrix3\n",
        "\n",
        "    #Функция для произведения двух матриц\n",
        "    def multiplication_matrix(self,\n",
        "                   matrix1: list[list[any]],\n",
        "                   matrix2: list[list[any]]) -> list[list[any]]:\n",
        "\n",
        "         #Проверяем на равенство столбцов одного и строк другого\n",
        "        if len(matrix1[0]) != len(matrix2):\n",
        "            return 0\n",
        "\n",
        "        #Инициализация итоговой матрицы\n",
        "        matrix3 = [[0] * (len(matrix2[0])) for _ in range(len(matrix1))]\n",
        "\n",
        "        for i in range(len(matrix1)):\n",
        "            for j in range(len(matrix2[0])):\n",
        "                for k in range(len(matrix2)):\n",
        "                    matrix3[i][j] += matrix1[i][k] * matrix2[k][j]\n",
        "        return matrix3\n",
        "\n",
        "    #Функция для произведения скаляра на матрицу\n",
        "    def multiplication_skal_matrix(self,\n",
        "                                   matrix: list[list[any]],\n",
        "                                   skal: any) -> list[list[any]]:\n",
        "\n",
        "        for i in range(len(matrix)):\n",
        "            for j in range(len(matrix[0])):\n",
        "                matrix[i][j] *= skal\n",
        "        return matrix\n",
        "\n",
        "    #Функция по поиску определителя матрицы\n",
        "    def det(self, matrix: list[list[any]]) -> any:\n",
        "\n",
        "        #Для нахождения определителя матрица должна быть квадратной\n",
        "        if len(matrix) != len(matrix[0]):\n",
        "            return 0\n",
        "\n",
        "        #Функция для рекурсии - реализация Минора\n",
        "        def det_recursion(matrix: list[list[any]]) -> any:\n",
        "\n",
        "            #Если условие выполняется, значит мы дошли до \"конца\" рекурсивного вызова\n",
        "            if len(matrix) == 1:\n",
        "                return matrix[0][0]\n",
        "\n",
        "            summ = 0\n",
        "            for i in range(len(matrix[0])):\n",
        "                M = [row[:i] + row[i + 1:] for row in matrix[1:]]\n",
        "                elem = ((-1) ** i) * matrix[0][i] * det_recursion(M)\n",
        "                summ += elem\n",
        "\n",
        "            #Возвращаем промежуточную сумму\n",
        "            return summ\n",
        "\n",
        "        summ = det_recursion(matrix)\n",
        "        #Возвращаем итоговую сумму\n",
        "        return summ"
      ],
      "metadata": {
        "id": "i7kGlax-1Cgc"
      },
      "execution_count": 2243,
      "outputs": []
    },
    {
      "cell_type": "code",
      "source": [
        "N, M = 0, 0\n",
        "matrix_operations = Matrix_Operations(N, M, [])"
      ],
      "metadata": {
        "id": "64KS8up906Uf"
      },
      "execution_count": 2244,
      "outputs": []
    },
    {
      "cell_type": "code",
      "source": [
        "def check_trivial(vec):\n",
        "  flag = True\n",
        "  for num in vec:\n",
        "    if float(num) != 0.0:\n",
        "      flag = False\n",
        "      break\n",
        "  return flag"
      ],
      "metadata": {
        "id": "5LTrFetuNJI3"
      },
      "execution_count": 2245,
      "outputs": []
    },
    {
      "cell_type": "code",
      "source": [
        "def gauss_solver(A: list[list], b: list, delta=1e-6) -> list[list]:\n",
        "  # расширяем матрицу\n",
        "  for i in range(len(A)):\n",
        "    A[i].append(b[i])\n",
        "\n",
        "  # применяем метод Гаусса сверху вниз, приводим к ступ. виду\n",
        "  for i in range(len(A)):\n",
        "    max_el = -2**63\n",
        "    row = 0\n",
        "    for j in range(i, len(A)):\n",
        "      if (A[j][i] < 0 or A[j][i] > 0) and A[j][i] > max_el:\n",
        "        max_el = A[j][i]\n",
        "        row = j\n",
        "\n",
        "    if (max_el < 0 or max_el > 0) and max_el > -2**63:\n",
        "      A[row], A[i] = A[i], A[row]\n",
        "    else:\n",
        "      continue\n",
        "\n",
        "    el = A[i][i]\n",
        "    if not(el < 0 or el > 0):\n",
        "      continue\n",
        "    for j in range(i + 1, len(A)):\n",
        "      if A[j][i] == 0:\n",
        "        continue\n",
        "      a = A[j][i] / el\n",
        "      for k in range(i, len(A[i])):\n",
        "        A[j][k] -= A[i][k] * a\n",
        "        if abs(A[j][k] - round(A[j][k])) < delta:\n",
        "          A[j][k] = round(A[j][k])\n",
        "        elif abs(A[j][k] - ceil(A[j][k])) < delta:\n",
        "          A[j][k] = ceil(A[j][k])\n",
        "\n",
        "  # применяем метод Гаусса снизу вверх, чтобы занулить как можно больше коэффициентов\n",
        "  for i in range(len(A) - 1, -1, -1):\n",
        "    el = 0\n",
        "    col = 0\n",
        "    for j in range(len(A[i]) - 1):\n",
        "      if A[i][j] < 0 or A[i][j] > 0:\n",
        "        el = A[i][j]\n",
        "        col = j\n",
        "        break\n",
        "\n",
        "    if el == 0:\n",
        "      continue\n",
        "    for j in range(i - 1, -1, -1):\n",
        "      if not(A[j][col] < 0 or A[j][col] > 0):\n",
        "        continue\n",
        "      a = A[j][col] / el\n",
        "      for k in range(col, len(A[i])):\n",
        "        A[j][k] -= A[i][k] * a\n",
        "        if abs(A[j][k] - round(A[j][k])) < delta:\n",
        "          A[j][k] = round(A[j][k])\n",
        "        elif abs(A[j][k] - ceil(A[j][k])) < delta:\n",
        "          A[j][k] = ceil(A[j][k])\n",
        "\n",
        "  # делим все строки на первый ненулевой элемент, дабы упростить вычисления\n",
        "  for i in range(len(A)):\n",
        "    el = 0\n",
        "    for j in range(len(A[i])):\n",
        "      if A[i][j] < 0 or A[i][j] > 0:\n",
        "        el = A[i][j]\n",
        "        break\n",
        "    if not(el < 0 or el > 0):\n",
        "      continue\n",
        "    for j in range(len(A[i])):\n",
        "      A[i][j] /=  el\n",
        "\n",
        "  for row in A:\n",
        "    flag = True\n",
        "    for i in range(len(row) - 1):\n",
        "      if row[i] != 0:\n",
        "        flag = False\n",
        "        break\n",
        "    if flag:\n",
        "      if row[-1] < 0 or row[-1] > 0:\n",
        "        raise ValueError(\"The system is incompatible\")\n",
        "      pass\n",
        "\n",
        "  # определяем свободные переменные\n",
        "  free_vars = [i for i in range(len(A[0]) - 1)]\n",
        "  dependent_vars = []\n",
        "  for i in range(len(A)):\n",
        "    for j in range(len(A[i]) - 1):\n",
        "      if A[i][j] < 0 or A[i][j] > 0:\n",
        "        free_vars.remove(j)\n",
        "        dependent_vars.append(j)\n",
        "        break\n",
        "\n",
        "  x = list()\n",
        "  if len(free_vars) > 0:\n",
        "    for var in free_vars:\n",
        "      vector = [0 for i in range(len(A[0]) - 1)]\n",
        "      for i in range(len(A)):\n",
        "        dep = -100\n",
        "        for j in range(len(A[i]) - 1):\n",
        "          if j not in free_vars and (A[i][j] < 0 or A[i][j] > 0):\n",
        "            dep = j\n",
        "          elif j == var and dep != -100:\n",
        "            vector[j] = 1\n",
        "            vector[dep] = -A[i][j]\n",
        "      if not check_trivial(vector):\n",
        "        x.append(vector)\n",
        "\n",
        "    vector = [0 for i in range(len(A[0]) - 1)]\n",
        "    for var in dependent_vars:\n",
        "      vector[var] = A[var][-1]\n",
        "    if not check_trivial(vector):\n",
        "      x.append(vector)\n",
        "\n",
        "  else:\n",
        "    v = []\n",
        "    for i in range(len(A)):\n",
        "      v.append(A[i][-1])\n",
        "    if not check_trivial(v):\n",
        "      x.append(v)\n",
        "\n",
        "  return x"
      ],
      "metadata": {
        "id": "6yGhm5DX1KFI"
      },
      "execution_count": 2246,
      "outputs": []
    },
    {
      "cell_type": "code",
      "source": [
        "def center_data(X: list[list]) -> list[list]:\n",
        "  \"\"\"\n",
        "  Вход: матрица данных X (n×m)\n",
        "  Выход: центрированная матрица X_centered (n×m)\n",
        "  \"\"\"\n",
        "  M = deepcopy(X)\n",
        "  for i in range(len(M[0])):\n",
        "    mean = 0\n",
        "    for j in range(len(M)):\n",
        "      mean += M[j][i]\n",
        "    mean /= len(M)\n",
        "    for j in range(len(M)):\n",
        "      M[j][i] -= mean\n",
        "  return M"
      ],
      "metadata": {
        "id": "8iY2Y9-n1SkD"
      },
      "execution_count": 2247,
      "outputs": []
    },
    {
      "cell_type": "code",
      "source": [
        "def transp(matrix):\n",
        "  new_matrix = [[matrix[j][i] for j in range(len(matrix))] for i in range(len(matrix[0]))]\n",
        "  return new_matrix"
      ],
      "metadata": {
        "id": "Pu59fwls1aF_"
      },
      "execution_count": 2248,
      "outputs": []
    },
    {
      "cell_type": "code",
      "source": [
        "def covariance_matrix(X_centered: list[list]) -> list[list]:\n",
        "  \"\"\"\n",
        "  Вход: центрированная матрица X_centered (n×m)\n",
        "  Выход: матрица ковариаций C (m×m)\n",
        "  \"\"\"\n",
        "  M = deepcopy(X_centered)\n",
        "  coef = 1 / (len(M) - 1)\n",
        "\n",
        "  M_T = transp(M)\n",
        "  M_M_T = matrix_operations.multiplication_matrix(M_T, M)\n",
        "  for i in range(len(M_M_T)):\n",
        "    for j in range(len(M_M_T)):\n",
        "      M_M_T[i][j] *= coef\n",
        "\n",
        "  return M_M_T"
      ],
      "metadata": {
        "id": "kBhp5Q3Z1d5q"
      },
      "execution_count": 2249,
      "outputs": []
    },
    {
      "cell_type": "code",
      "source": [
        "def lambda_det(lambd, matrix):\n",
        "    I_lambd = [[-lambd if i == j else 0 for j in range(len(matrix[0]))] for i in range(len(matrix))]\n",
        "    A = matrix_operations.sum_matrix(matrix, I_lambd)\n",
        "    return matrix_operations.det(A)\n",
        "\n",
        "def bisection(matrix, a, b, tol):\n",
        "  f_a = lambda_det(a, matrix)\n",
        "  f_b = lambda_det(b, matrix)\n",
        "  if f_a * f_b > 0:\n",
        "    return None\n",
        "\n",
        "  while abs(b - a) > tol:\n",
        "    c = (a + b) / 2\n",
        "    f_c = lambda_det(c, matrix)\n",
        "    if abs(f_c) < tol:\n",
        "      return c\n",
        "    elif f_a * f_c < 0:\n",
        "      b = c\n",
        "      f_b = f_c\n",
        "    else:\n",
        "      a = c\n",
        "      f_a = f_c\n",
        "  return (a + b) / 2\n",
        "\n",
        "def find_eigenvalues(matrix, tol=1e-10):\n",
        "  n = len(matrix)\n",
        "\n",
        "  # вычисляем интервал по теореме Гершгорина\n",
        "  min_left, max_right = 2**63, -2**63\n",
        "  for i in range(len(matrix)):\n",
        "    s = 0\n",
        "    for j in range(len(matrix[0])):\n",
        "      s += abs(matrix[i][j])\n",
        "    s -= abs(matrix[i][i])\n",
        "\n",
        "    left, right = matrix[i][i] - s, matrix[i][i] + s\n",
        "    min_left, max_right = min(min_left, left), max(max_right, right)\n",
        "  left, right = min_left, max_right\n",
        "\n",
        "  intervals_amount = 1000\n",
        "  step = abs(left - right) / intervals_amount\n",
        "  eigenvalues = []\n",
        "  found = set()\n",
        "\n",
        "  for i in range(intervals_amount):\n",
        "    a = left + i * step\n",
        "    b = a + step\n",
        "    f_a = lambda_det(a, matrix)\n",
        "    f_b = lambda_det(b, matrix)\n",
        "    if f_a * f_b < 0:\n",
        "      root = bisection(matrix, a, b, tol)\n",
        "      if root is not None:\n",
        "        root_rounded = round(root, 6) # округляем корень\n",
        "        if all(abs(root_rounded - ev) > tol for ev in found): # проверяем достаточно ли далеко он лежит от уже найденных, иначе он - дубликат\n",
        "          found.add(root_rounded)\n",
        "          eigenvalues.append(root)\n",
        "\n",
        "  return eigenvalues"
      ],
      "metadata": {
        "id": "FB_LO-vHLk9h"
      },
      "execution_count": 2250,
      "outputs": []
    },
    {
      "cell_type": "code",
      "source": [
        "def find_eigenvectors(C: list[list], eigenvalues) -> list[float]:\n",
        "  eigenvectors = []\n",
        "  for eigenval in eigenvalues:\n",
        "    lambda_I = [[-eigenval if i == j else 0 for j in range(len(C[0]))] for i in range(len(C))]\n",
        "    C_lambda_I = matrix_operations.sum_matrix(C, lambda_I)\n",
        "\n",
        "    vectors = gauss_solver(C_lambda_I, [0 for i in range(len(C_lambda_I))])\n",
        "    eigenvectors.extend(vectors)\n",
        "\n",
        "  for i in range(len(eigenvectors)):\n",
        "    norm = sum(x ** 2 for x in eigenvectors[i]) ** 0.5\n",
        "    for j in range(len(eigenvectors[i])):\n",
        "      eigenvectors[i][j] /= norm\n",
        "\n",
        "  return eigenvectors"
      ],
      "metadata": {
        "id": "6eu6EsMICKfs"
      },
      "execution_count": 2251,
      "outputs": []
    },
    {
      "cell_type": "code",
      "source": [
        "def explained_variance_ratio(eigenvalues: List[float], k: int) -> float:\n",
        "  \"\"\"\n",
        "  Вход:\n",
        "  eigenvalues: список собственных значений\n",
        "  k: число компонент\n",
        "  Выход: доля объяснённой дисперсии\n",
        "  \"\"\"\n",
        "  eigenvalues.sort(reverse=True)\n",
        "  return sum(eigenvalues[:k]) / sum(eigenvalues)"
      ],
      "metadata": {
        "id": "Jo7fhdH1a-iq"
      },
      "execution_count": 2252,
      "outputs": []
    },
    {
      "cell_type": "code",
      "source": [
        "def pca(X: list[list], k: int) -> Tuple[list[list], float]:\n",
        "  \"\"\"\n",
        "  Вход:\n",
        "  X: матрица данных (n×m)\n",
        "  k: число главных компонент\n",
        "  Выход:\n",
        "  X_proj: проекция данных (n×k)\n",
        "  : доля объяснённой дисперсии\n",
        "  \"\"\"\n",
        "  X_centered = center_data(X)\n",
        "  X_cov = covariance_matrix(X_centered)\n",
        "\n",
        "  eigenvalues = find_eigenvalues(X_cov)\n",
        "  eigenvectors = find_eigenvectors(X_cov, eigenvalues)\n",
        "\n",
        "  sorting = sorted(zip(eigenvalues, eigenvectors), key=lambda x: x[0], reverse=True)\n",
        "  eigenvalues, eigenvectors = zip(*sorting)\n",
        "  eigenvalues, eigenvectors = list(eigenvalues), list(eigenvectors)\n",
        "\n",
        "  # получаем первые k айгенвекторов\n",
        "  V = [vec[:k] for vec in transp(eigenvectors)]\n",
        "  X_proj = matrix_operations.multiplication_matrix(X, V)\n",
        "\n",
        "  X_recon = matrix_operations.multiplication_matrix(X_proj, transp(V))\n",
        "\n",
        "  explained_variance = explained_variance_ratio(eigenvalues, k)\n",
        "  return X_proj, explained_variance, X_recon"
      ],
      "metadata": {
        "id": "Bbs5kbAdpiyS"
      },
      "execution_count": 2253,
      "outputs": []
    },
    {
      "cell_type": "code",
      "source": [
        "from matplotlib.figure import Figure\n",
        "def plot_pca_projection(X_proj) -> Figure:\n",
        "  \"\"\"\n",
        "  Вход: проекция данных X_proj (n×2)\n",
        "  Выход: объект Figure из Matplotlib\n",
        "  \"\"\"\n",
        "  fig = Figure(figsize=(8, 6))\n",
        "  ax = fig.add_subplot(1, 1, 1)\n",
        "\n",
        "  pc1 = [X_proj[i][0] for i in range(len(X_proj))]\n",
        "  pc2 = [X_proj[i][1] for i in range(len(X_proj))]\n",
        "\n",
        "  scatter = ax.scatter(pc1, pc2, s=20)\n",
        "  ax.set_xlabel(\"Principal Component 1\")\n",
        "  ax.set_ylabel(\"Principal Component 2\")\n",
        "  ax.set_title(\"PCA\")\n",
        "\n",
        "  return fig"
      ],
      "metadata": {
        "id": "uIezxqGwainX"
      },
      "execution_count": 2254,
      "outputs": []
    },
    {
      "cell_type": "code",
      "source": [
        "from sklearn import datasets\n",
        "\n",
        "iris = datasets.load_iris()\n",
        "A = iris.data.tolist()"
      ],
      "metadata": {
        "id": "nxdRFQxcc-eZ"
      },
      "execution_count": 2255,
      "outputs": []
    },
    {
      "cell_type": "code",
      "source": [
        "make_pca = pca(A, 2)\n",
        "A_proj = make_pca[0]\n",
        "exp_variance = make_pca[1]\n",
        "print(exp_variance)\n",
        "A_recon = make_pca[2]\n",
        "plot_pca_projection(A_proj)"
      ],
      "metadata": {
        "colab": {
          "base_uri": "https://localhost:8080/",
          "height": 581
        },
        "id": "amJdVva7cL7Q",
        "outputId": "0f436e09-700a-4139-bdc2-6e09475286fa"
      },
      "execution_count": 2256,
      "outputs": [
        {
          "output_type": "stream",
          "name": "stdout",
          "text": [
            "0.9776852062824762\n"
          ]
        },
        {
          "output_type": "execute_result",
          "data": {
            "text/plain": [
              "<Figure size 800x600 with 1 Axes>"
            ],
            "image/png": "[encoded data removed]"
          },
          "metadata": {},
          "execution_count": 2256
        }
      ]
    },
    {
      "cell_type": "code",
      "source": [
        "def reconstruction_error(X_orig, X_recon) -> float:\n",
        "  \"\"\"\n",
        "  Вход:\n",
        "  X_orig: исходные данные (n×m)\n",
        "  X_recon: восстановленные данные (n×m)\n",
        "  Выход: среднеквадратическая ошибка MSE\n",
        "  \"\"\"\n",
        "  n, m = len(X_orig), len(X_orig[0])\n",
        "  s = 0\n",
        "  for i in range(n):\n",
        "    for j in range(m):\n",
        "      s += (X_orig[i][j] - X_recon[i][j]) ** 2\n",
        "\n",
        "  s /= n * m\n",
        "  return s\n",
        "\n",
        "reconstruction_error(A, A_recon)"
      ],
      "metadata": {
        "colab": {
          "base_uri": "https://localhost:8080/"
        },
        "id": "t-4_RONbfjzd",
        "outputId": "b8514e86-4bef-4b90-a64d-4d3bd23c1808"
      },
      "execution_count": 2257,
      "outputs": [
        {
          "output_type": "execute_result",
          "data": {
            "text/plain": [
              "0.12542862283364842"
            ]
          },
          "metadata": {},
          "execution_count": 2257
        }
      ]
    }
  ]
}